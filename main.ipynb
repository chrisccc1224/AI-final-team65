{
 "cells": [
  {
   "cell_type": "code",
   "execution_count": 25,
   "metadata": {},
   "outputs": [],
   "source": [
    "import pandas as pd\n",
    "import numpy as np\n",
    "import matplotlib.pyplot as plt\n",
    "from sklearn.model_selection import train_test_split\n",
    "from sklearn.ensemble import RandomForestRegressor\n",
    "from sklearn.preprocessing import MultiLabelBinarizer\n",
    "from sklearn.metrics import mean_squared_error, r2_score\n",
    "from sklearn.preprocessing import LabelEncoder"
   ]
  },
  {
   "cell_type": "code",
   "execution_count": 26,
   "metadata": {},
   "outputs": [],
   "source": [
    "# data processing\n",
    "\n",
    "df= pd.read_csv(\"movie_metadata.csv\")\n",
    "#drop useless(we think it's) columns\n",
    "df=df.drop(columns=[\"color\",\"director_name\",\"actor_1_name\",\"actor_2_name\",\"actor_3_name\",\"language\",\"country\",\"movie_imdb_link\",\"plot_keywords\",\"movie_title\",\"title_year\",\"cast_total_facebook_likes\",\"facenumber_in_poster\",\"aspect_ratio\",\"movie_facebook_likes\"])\n",
    "#drop row with missing(NAN)value\n",
    "df=df.dropna()\n",
    "# count how many movies (row )left\n",
    "df.count()\n",
    "\n",
    "#encode genres(multi-label)\n",
    "df['genres']=df['genres'].str.split('|')\n",
    "mlb= MultiLabelBinarizer()\n",
    "genre_encoded=pd.DataFrame(mlb.fit_transform(df['genres']), columns=mlb.classes_, index=df.index)\n",
    "df=df.drop(columns=[\"genres\"]).join(genre_encoded)\n",
    "\n",
    "# encode content_rating\n",
    "le=LabelEncoder()\n",
    "df['content_rating'] = le.fit_transform(df['content_rating'])\n",
    "\n",
    "#the value we want to predict\n",
    "scores=df[\"imdb_score\"]\n",
    "df= df.drop(columns=[\"imdb_score\"])\n"
   ]
  },
  {
   "cell_type": "code",
   "execution_count": 27,
   "metadata": {},
   "outputs": [
    {
     "name": "stdout",
     "output_type": "stream",
     "text": [
      "Mean Squared Error: 0.4407266179921775\n",
      "R^2 Score: 0.6077843452726306\n"
     ]
    }
   ],
   "source": [
    "# pre processing\n",
    "X_train,X_test,y_train,y_test=train_test_split(df,scores,test_size=0.2,shuffle=True,random_state=42)\n",
    "# train model\n",
    "\n",
    "model=RandomForestRegressor()\n",
    "model.fit(X_train,y_train)\n",
    "# predict\n",
    "y_pred=model.predict(X_test)\n",
    "# evaluate\n",
    "from sklearn.metrics import mean_squared_error, r2_score\n",
    "mse = mean_squared_error(y_test, y_pred)\n",
    "r2 = r2_score(y_test, y_pred)\n",
    "print(f\"Mean Squared Error: {mse}\")\n",
    "print(f\"R^2 Score: {r2}\")\n"
   ]
  }
 ],
 "metadata": {
  "kernelspec": {
   "display_name": "3.13.3",
   "language": "python",
   "name": "python3"
  },
  "language_info": {
   "codemirror_mode": {
    "name": "ipython",
    "version": 3
   },
   "file_extension": ".py",
   "mimetype": "text/x-python",
   "name": "python",
   "nbconvert_exporter": "python",
   "pygments_lexer": "ipython3",
   "version": "3.13.3"
  }
 },
 "nbformat": 4,
 "nbformat_minor": 2
}
