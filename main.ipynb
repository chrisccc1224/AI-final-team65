{
 "cells": [
  {
   "cell_type": "code",
   "execution_count": null,
   "metadata": {},
   "outputs": [],
   "source": [
    "import pandas as pd\n",
    "import numpy as np\n",
    "import matplotlib.pyplot as plt\n",
    "from sklearn.model_selection import train_test_split\n",
    "from sklearn.ensemble import RandomForestRegressor\n",
    "from sklearn.preprocessing import MultiLabelBinarizer\n",
    "from sklearn.metrics import mean_squared_error, r2_score\n",
    "from sklearn.preprocessing import LabelEncoder\n"
   ]
  },
  {
   "cell_type": "code",
   "execution_count": 31,
   "metadata": {},
   "outputs": [
    {
     "name": "stdout",
     "output_type": "stream",
     "text": [
      "[7.9 7.1 6.8 ... 6.9 6.4 6.6]\n"
     ]
    }
   ],
   "source": [
    "# data processing\n",
    "\n",
    "df= pd.read_csv(\"movie_metadata.csv\")\n",
    "#drop useless(we think it's) columns\n",
    "df=df.drop(columns=[\"color\",\"director_name\",\"actor_1_name\",\"actor_2_name\",\"actor_3_name\",\"language\",\"country\",\"movie_imdb_link\",\"plot_keywords\",\"movie_title\",\"title_year\",\"cast_total_facebook_likes\",\"facenumber_in_poster\",\"aspect_ratio\",\"movie_facebook_likes\"])\n",
    "#drop row with missing(NAN)value\n",
    "df=df.dropna()\n",
    "# count how many movies (row )left\n",
    "df.count()\n",
    "\n",
    "#encode genres(multi-label)\n",
    "df['genres']=df['genres'].str.split('|')\n",
    "mlb= MultiLabelBinarizer()\n",
    "genre_encoded=pd.DataFrame(mlb.fit_transform(df['genres']), columns=mlb.classes_, index=df.index)\n",
    "df=df.drop(columns=[\"genres\"]).join(genre_encoded)\n",
    "\n",
    "# encode content_rating\n",
    "le=LabelEncoder()\n",
    "df['content_rating'] = le.fit_transform(df['content_rating'])\n",
    "\n",
    "#the value we want to predict\n",
    "scores=df[\"imdb_score\"].values\n",
    "df= df.drop(columns=[\"imdb_score\"])\n",
    "print(scores)\n"
   ]
  },
  {
   "cell_type": "code",
   "execution_count": 43,
   "metadata": {},
   "outputs": [
    {
     "name": "stdout",
     "output_type": "stream",
     "text": [
      "[5.421 7.171 6.808 8.148 6.007 5.458 4.967 7.166 5.241 5.876]\n",
      "Mean Squared Error: 0.44152238331160365\n",
      "R^2 Score: 0.6070761701749023\n"
     ]
    }
   ],
   "source": [
    "X_train,X_test,y_train,y_test=train_test_split(df,scores,test_size=0.2,shuffle=True,random_state=42)\n",
    "model=RandomForestRegressor()\n",
    "model.fit(X_train, y_train)\n",
    "# predict\n",
    "y_pred=model.predict(X_test)\n",
    "\n",
    "# evaluate\n",
    "from sklearn.metrics import mean_squared_error, r2_score\n",
    "mse = mean_squared_error(y_test, y_pred)\n",
    "r2 = r2_score(y_test, y_pred)\n",
    "print(y_pred[:10])  # Print first 10 predictions\n",
    "print(f\"Mean Squared Error: {mse}\")\n",
    "print(f\"R^2 Score: {r2}\")"
   ]
  },
  {
   "cell_type": "code",
   "execution_count": 45,
   "metadata": {},
   "outputs": [
    {
     "name": "stdout",
     "output_type": "stream",
     "text": [
      "[5.8 6.7 7.5 8.4 6.  5.8 5.5 6.6 4.8 6.2]\n",
      "Mean Squared Error: 0.8696610169491525\n",
      "R^2 Score: 0.22606293509679543\n"
     ]
    }
   ],
   "source": [
    "# base  model  decision tree\n",
    "from random_forest import DecisionTree\n",
    "X_train,X_test,y_train,y_test=train_test_split(df,scores,test_size=0.2,shuffle=True,random_state=42)\n",
    "model = DecisionTree(\n",
    "    max_depth=None,\n",
    "    max_features=None,\n",
    ")\n",
    "model.fit(X_train,y_train)\n",
    "y_pred=model.predict(X_test)\n",
    "from sklearn.metrics import mean_squared_error, r2_score\n",
    "mse = mean_squared_error(y_test, y_pred)\n",
    "r2 = r2_score(y_test, y_pred)\n",
    "print(y_pred[:10])  # Print first 10 predictions\n",
    "print(f\"Mean Squared Error: {mse}\")\n",
    "print(f\"R^2 Score: {r2}\")\n"
   ]
  },
  {
   "cell_type": "code",
   "execution_count": null,
   "metadata": {},
   "outputs": [
    {
     "name": "stderr",
     "output_type": "stream",
     "text": [
      "Training trees...: 100%|██████████| 50/50 [02:47<00:00,  3.35s/it]\n"
     ]
    },
    {
     "name": "stdout",
     "output_type": "stream",
     "text": [
      "(767, 33)\n",
      "[5.62665952 6.837      6.81506641 7.6873155  5.95910476 5.72383622\n",
      " 5.76999399 7.00005013 5.55366667 6.03416389]\n",
      "Mean Squared Error: 0.4532623446109051\n",
      "R^2 Score: 0.5966284313284114\n"
     ]
    }
   ],
   "source": [
    "from random_forest import RandomForest\n",
    "# pre processing\n",
    "X_train,X_test,y_train,y_test=train_test_split(df,scores,test_size=0.2,shuffle=True,random_state=42)\n",
    "# train model\n",
    "\n",
    "model = RandomForest(\n",
    "    n_trees=50,\n",
    "    max_depth=None,\n",
    "    max_features='sqrt'\n",
    ")\n",
    "model.fit(X_train, y_train)\n",
    "# predict\n",
    "y_pred=model.predict(X_test)\n",
    "\n",
    "# evaluate\n",
    "from sklearn.metrics import mean_squared_error, r2_score\n",
    "mse = mean_squared_error(y_test, y_pred)\n",
    "r2 = r2_score(y_test, y_pred)\n",
    "print(y_pred[:10])  # Print first 10 predictions\n",
    "print(f\"Mean Squared Error: {mse}\")\n",
    "print(f\"R^2 Score: {r2}\")\n",
    "\n"
   ]
  }
 ],
 "metadata": {
  "kernelspec": {
   "display_name": "3.13.3",
   "language": "python",
   "name": "python3"
  },
  "language_info": {
   "codemirror_mode": {
    "name": "ipython",
    "version": 3
   },
   "file_extension": ".py",
   "mimetype": "text/x-python",
   "name": "python",
   "nbconvert_exporter": "python",
   "pygments_lexer": "ipython3",
   "version": "3.13.3"
  }
 },
 "nbformat": 4,
 "nbformat_minor": 2
}
